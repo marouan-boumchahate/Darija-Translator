{
 "cells": [
  {
   "cell_type": "markdown",
   "id": "464c67d3-b948-4a0e-b9c3-70193529352f",
   "metadata": {},
   "source": [
    "# Import Libs"
   ]
  },
  {
   "cell_type": "code",
   "execution_count": 2,
   "id": "b0af7d90-e867-4e69-a82f-02014f1a6201",
   "metadata": {},
   "outputs": [],
   "source": [
    "import os\n",
    "import json\n",
    "from dotenv import load_dotenv\n",
    "from openai import OpenAI\n",
    "import gradio as gr"
   ]
  },
  {
   "cell_type": "markdown",
   "id": "b5a4c4bc-2bfb-4e6a-a947-b6caf43a8786",
   "metadata": {},
   "source": [
    "# Load the OpenAI key"
   ]
  },
  {
   "cell_type": "code",
   "execution_count": 3,
   "id": "2d674016-7dfe-463d-a6f1-43518979f91f",
   "metadata": {},
   "outputs": [
    {
     "name": "stdout",
     "output_type": "stream",
     "text": [
      "OpenAI API Key exists and begins sk-proj-\n"
     ]
    }
   ],
   "source": [
    "load_dotenv(override=True)\n",
    "\n",
    "openai_api_key = os.getenv('OPENAI_API_KEY')\n",
    "if openai_api_key:\n",
    "    print(f\"OpenAI API Key exists and begins {openai_api_key[:8]}\")\n",
    "else:\n",
    "    print(\"OpenAI API Key not set\")\n",
    "    \n",
    "MODEL = \"gpt-4o-mini\"\n",
    "openai = OpenAI()"
   ]
  },
  {
   "cell_type": "markdown",
   "id": "e39bba24-02f5-44c8-869e-98b9032efd9b",
   "metadata": {},
   "source": [
    "# Preparing a System Prompt"
   ]
  },
  {
   "cell_type": "code",
   "execution_count": 4,
   "id": "1ba04f43-3036-4b37-a3d8-13dbb38a0228",
   "metadata": {},
   "outputs": [],
   "source": [
    "system_message = \"You are a helpful translator that translate sentences/words from Moroccan Darija to (English / Arabic / French) or the opposite. \"\n",
    "system_message = \"The translate should be by the meaning of the sentence and not by words, for example: 'زيد نقصط' or 'zid n9es' --> 'decrease more' not 'add less'. \"\n",
    "system_message = \"The answer should only be the response sentence or word with no explaination at all. \"\n",
    "system_message = \"A message example: \\n\"\n",
    "system_message = \"\"\"\n",
    "    1- translated from Darija to English: [Bghit Nakul]\n",
    "    2- translated from Darija to English: [بغيت الناكل]\n",
    "    3- translated from English to Darija: [I wanna eat]\\n\n",
    "\"\"\"\n",
    "system_message = \"Your response must be a snetence for example: \\n\"\n",
    "system_message = \"\"\"\n",
    "    1- I wanna eat\n",
    "    2- I want to eat\n",
    "    3- bghit nakul or بغيت الناكل\n",
    "\"\"\"\n",
    "system_message = \"\\nImportant NOTE!!! Don't not write explaination only and only the tranlation of the sentence to the target language.\""
   ]
  },
  {
   "cell_type": "markdown",
   "id": "fb2f671d-96c5-44e5-9671-f8ef41a33119",
   "metadata": {},
   "source": [
    "# AI Chat Rresponse"
   ]
  },
  {
   "cell_type": "code",
   "execution_count": 5,
   "id": "cde42bc9-d0e0-4ece-87c8-5f64e2c9bcbb",
   "metadata": {},
   "outputs": [],
   "source": [
    "def chat(message, source, target):\n",
    "    userMessage = f'translated from {source} to {target}: [{message}]'\n",
    "    \n",
    "    messages = [{\"role\": \"system\", \"content\": system_message}, {\"role\": \"user\", \"content\": userMessage}]\n",
    "    response = openai.chat.completions.create(model=MODEL, messages=messages)\n",
    "    \n",
    "    return response.choices[0].message.content"
   ]
  },
  {
   "cell_type": "markdown",
   "id": "e111505e-f98d-4468-b6cb-5316e8a40e59",
   "metadata": {},
   "source": [
    "# Start the chat interface"
   ]
  },
  {
   "cell_type": "code",
   "execution_count": 14,
   "id": "bf7f1f06-df89-49ec-a1c6-a47f3057822f",
   "metadata": {},
   "outputs": [],
   "source": [
    "def create_translator_interface():\n",
    "    \"\"\"\n",
    "    Create the Gradio interface with dropdowns for language selection\n",
    "    \"\"\"\n",
    "    \n",
    "    # Define language options\n",
    "    language_options = [\"Arabic\", \"English\", \"Darija\", \"French\"]\n",
    "    \n",
    "    # Create the interface using gr.Blocks for more control\n",
    "    with gr.Blocks(title=\"Darija Translator\") as interface:\n",
    "         gr.Markdown(\"# Darija Translator\")\n",
    "         gr.Markdown(\"Enter text and select source and target languages\")\n",
    "        \n",
    "         with gr.Row():\n",
    "             with gr.Column():\n",
    "                # Input section\n",
    "                gr.Markdown(\"### Input\")\n",
    "                input_text = gr.Textbox(\n",
    "                    label=\"Enter text to translate\",\n",
    "                    placeholder=\"Type your text here...\",\n",
    "                    lines=3\n",
    "                )\n",
    "                source_lang = gr.Dropdown(\n",
    "                    choices=language_options,\n",
    "                    label=\"Source Language\",\n",
    "                    value=\"English\"  # default value\n",
    "                )\n",
    "            \n",
    "             with gr.Column():\n",
    "                # Output section\n",
    "                gr.Markdown(\"### Output\")\n",
    "                output_text = gr.Textbox(\n",
    "                    label=\"Translation\",\n",
    "                    lines=3,\n",
    "                    interactive=False  # Make it read-only\n",
    "                )\n",
    "                target_lang = gr.Dropdown(\n",
    "                    choices=language_options,\n",
    "                    label=\"Target Language\",\n",
    "                    value=\"Darija\"  # default value\n",
    "                )\n",
    "        \n",
    "         # Translate button\n",
    "         translate_btn = gr.Button(\"Translate\", variant=\"primary\")\n",
    "        \n",
    "         # Clear button\n",
    "         clear_btn = gr.Button(\"Clear\", variant=\"secondary\")\n",
    "        \n",
    "         # Set up the translation action\n",
    "         translate_btn.click(\n",
    "            fn=chat,\n",
    "            inputs=[input_text, source_lang, target_lang],\n",
    "            outputs=output_text\n",
    "         )\n",
    "        \n",
    "         # Set up clear action\n",
    "         clear_btn.click(\n",
    "            fn=lambda: (\"\", \"\"),\n",
    "            inputs=[],\n",
    "            outputs=[input_text, output_text]\n",
    "         )\n",
    "        \n",
    "         # Optional: Add examples\n",
    "         gr.Examples(\n",
    "            examples=[\n",
    "                [\"Bghit nakul\", \"Darija\", \"English\"],\n",
    "                [\"I want to eat\", \"English\", \"Darija\"],\n",
    "                [\"أريد أن آكل\", \"Arabic\", \"English\"],\n",
    "            ],\n",
    "            inputs=[input_text, source_lang, target_lang],\n",
    "         )\n",
    "    \n",
    "    return interface"
   ]
  },
  {
   "cell_type": "code",
   "execution_count": 15,
   "id": "572d0aa7-d8b9-4ca7-9e7a-938fb52436ce",
   "metadata": {},
   "outputs": [
    {
     "name": "stdout",
     "output_type": "stream",
     "text": [
      "* Running on local URL:  http://127.0.0.1:7866\n",
      "* To create a public link, set `share=True` in `launch()`.\n"
     ]
    },
    {
     "data": {
      "text/html": [
       "<div><iframe src=\"http://127.0.0.1:7866/\" width=\"100%\" height=\"500\" allow=\"autoplay; camera; microphone; clipboard-read; clipboard-write;\" frameborder=\"0\" allowfullscreen></iframe></div>"
      ],
      "text/plain": [
       "<IPython.core.display.HTML object>"
      ]
     },
     "metadata": {},
     "output_type": "display_data"
    },
    {
     "data": {
      "text/plain": []
     },
     "execution_count": 15,
     "metadata": {},
     "output_type": "execute_result"
    }
   ],
   "source": [
    "interface = create_translator_interface()\n",
    "interface.launch()"
   ]
  },
  {
   "cell_type": "code",
   "execution_count": null,
   "id": "b1b0335d-d625-44ed-82d1-2523d23e3a23",
   "metadata": {},
   "outputs": [],
   "source": []
  }
 ],
 "metadata": {
  "kernelspec": {
   "display_name": "Python 3 (ipykernel)",
   "language": "python",
   "name": "python3"
  },
  "language_info": {
   "codemirror_mode": {
    "name": "ipython",
    "version": 3
   },
   "file_extension": ".py",
   "mimetype": "text/x-python",
   "name": "python",
   "nbconvert_exporter": "python",
   "pygments_lexer": "ipython3",
   "version": "3.11.13"
  }
 },
 "nbformat": 4,
 "nbformat_minor": 5
}
